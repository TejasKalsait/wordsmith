{
 "cells": [
  {
   "cell_type": "markdown",
   "metadata": {},
   "source": [
    "# Becoming a BackProp Ninja"
   ]
  },
  {
   "cell_type": "code",
   "execution_count": 8,
   "metadata": {},
   "outputs": [],
   "source": [
    "import torch\n",
    "import torch.nn.functional as F\n",
    "\n",
    "import random\n",
    "from typing import Any\n",
    "\n",
    "import matplotlib.pyplot as plt # for making figures\n",
    "%matplotlib inline"
   ]
  },
  {
   "cell_type": "code",
   "execution_count": 9,
   "metadata": {},
   "outputs": [],
   "source": [
    "# Hyperparaeters\n",
    "block_size = 5          # Context Length! How many characters to take to predict the next one\n",
    "embid_size = 15          # How many dimension in the embedding space\n",
    "batch_size = 256\n",
    "num_hidden = 256        # Number of neurons in the hidden layer\n",
    "lr = 0.05\n",
    "epochs = 5000"
   ]
  },
  {
   "cell_type": "code",
   "execution_count": 10,
   "metadata": {},
   "outputs": [
    {
     "name": "stdout",
     "output_type": "stream",
     "text": [
      "6474 words.\n",
      "Shape of train data is     X -> torch.Size([38221, 5])      Y ->  torch.Size([38221])\n",
      "Shape of dev data is     X -> torch.Size([4691, 5])      Y ->  torch.Size([4691])\n",
      "Shape of test data is     X -> torch.Size([4705, 5])      Y ->  torch.Size([4705])\n"
     ]
    }
   ],
   "source": [
    "# Dataset\n",
    "\n",
    "DATA_DIR = \"../data/indian_names.txt\"\n",
    "\n",
    "train_split = 0.8\n",
    "dev_split = 0.1\n",
    "test_split = 0.1\n",
    "\n",
    "assert (train_split + dev_split + test_split) == 1.0, \"Data Split ration does not add up to 1.0\"\n",
    "\n",
    "# Loading data\n",
    "words = open(DATA_DIR, 'r').read().splitlines()\n",
    "print(len(words), \"words.\")\n",
    "\n",
    "# Building Vocabulary and Conversions   str <--> int\n",
    "chrs = sorted(list(set(''.join(words))))\n",
    "stoi = {s : i+1 for i, s in enumerate(chrs)}\n",
    "itos = {i+1 : s for i, s in enumerate(chrs)}\n",
    "\n",
    "stoi['.'] = 0\n",
    "itos[0] = '.'\n",
    "\n",
    "special_characters = ['.']\n",
    "chrs = sorted(chrs + special_characters)\n",
    "\n",
    "# Takes some words and builds X and Y data out of it\n",
    "def build_dataset(words, type = 'train'):\n",
    "    \n",
    "    X, Y = [], []\n",
    "\n",
    "    for word in words:\n",
    "        #print(''.join(word))\n",
    "        context = [0] * block_size\n",
    "        for ch in word + '.':\n",
    "            ix = stoi[ch]\n",
    "            X.append(context)\n",
    "            Y.append(ix)\n",
    "            context = context[1:] + [ix]\n",
    "\n",
    "    X = torch.tensor(X)\n",
    "    Y = torch.tensor(Y)\n",
    "    print(f\"Shape of {type} data is     X -> {X.shape}      Y ->  {Y.shape}\")\n",
    "\n",
    "    return X, Y\n",
    "\n",
    "# Shuffling the data\n",
    "random.seed(800)\n",
    "random.shuffle(words)\n",
    "\n",
    "n1 = int(0.8 * len(words))\n",
    "n2 = int(0.9 * len(words))\n",
    "\n",
    "# Calling build\n",
    "Xtrain, Ytrain = build_dataset(words[:n1], \"train\")\n",
    "Xdev, Ydev = build_dataset(words[n1:n2], \"dev\")\n",
    "Xtest, Ytest = build_dataset(words[n2:], \"test\")"
   ]
  },
  {
   "cell_type": "code",
   "execution_count": 11,
   "metadata": {},
   "outputs": [],
   "source": [
    "# utility function we will use later when comparing manual gradients to PyTorch gradients\n",
    "def cmp(s, dt, t):\n",
    "  ex = torch.all(dt == t.grad).item()\n",
    "  app = torch.allclose(dt, t.grad)\n",
    "  maxdiff = (dt - t.grad).abs().max().item()\n",
    "  print(f'{s:15s} | exact: {str(ex):5s} | approximate: {str(app):5s} | maxdiff: {maxdiff}')"
   ]
  },
  {
   "cell_type": "code",
   "execution_count": 12,
   "metadata": {},
   "outputs": [
    {
     "name": "stdout",
     "output_type": "stream",
     "text": [
      "27056\n"
     ]
    }
   ],
   "source": [
    "# Weights initializing\n",
    "g = torch.Generator().manual_seed(800)\n",
    "\n",
    "C = torch.randn((len(chrs), embid_size), generator=g) * 0.01\n",
    "\n",
    "w1 = torch.randn((block_size*embid_size, num_hidden), generator=g) * (5/3)/((block_size*embid_size)**0.5)\n",
    "b1 = torch.randn((num_hidden), generator=g) * 0.1\n",
    "\n",
    "bngain = torch.ones((1, num_hidden)) * 0.1 + 0.1\n",
    "bnbias = torch.zeros((1, num_hidden)) * 0.1\n",
    "\n",
    "w2 = torch.randn((num_hidden, len(chrs)), generator=g) * 0.1\n",
    "b2 = torch.randn(len(chrs), generator=g) * 0.1\n",
    "\n",
    "parameters = [C, w1, w2, b2, bngain, bnbias]\n",
    "\n",
    "print(sum(p.nelement() for p in parameters)) # number of parameters in total\n",
    "for p in parameters:\n",
    "  p.requires_grad = True"
   ]
  },
  {
   "cell_type": "code",
   "execution_count": 13,
   "metadata": {},
   "outputs": [],
   "source": [
    "n = batch_size\n",
    "\n",
    "# construct a minibatch\n",
    "ix = torch.randint(0, Xtrain.shape[0], (batch_size,), generator=g)\n",
    "Xb, Yb = Xtrain[ix], Ytrain[ix] # batch X,Y"
   ]
  },
  {
   "cell_type": "code",
   "execution_count": 14,
   "metadata": {},
   "outputs": [
    {
     "data": {
      "text/plain": [
       "tensor(3.3380, grad_fn=<NegBackward0>)"
      ]
     },
     "execution_count": 14,
     "metadata": {},
     "output_type": "execute_result"
    }
   ],
   "source": [
    "# forward pass, \"chunkated\" into smaller steps that are possible to backward one at a time\n",
    "\n",
    "emb = C[Xb] # embed the characters into vectors\n",
    "embcat = emb.view(emb.shape[0], -1) # concatenate the vectors\n",
    "# Linear layer 1\n",
    "hprebn = embcat @ w1 + b1 # hidden layer pre-activation\n",
    "# BatchNorm layer\n",
    "bnmeani = 1/n*hprebn.sum(0, keepdim=True)\n",
    "bndiff = hprebn - bnmeani\n",
    "bndiff2 = bndiff**2\n",
    "bnvar = 1/(n-1)*(bndiff2).sum(0, keepdim=True) # note: Bessel's correction (dividing by n-1, not n)\n",
    "bnvar_inv = (bnvar + 1e-5)**-0.5\n",
    "bnraw = bndiff * bnvar_inv\n",
    "hpreact = bngain * bnraw + bnbias\n",
    "# Non-linearity\n",
    "h = torch.tanh(hpreact) # hidden layer\n",
    "# Linear layer 2\n",
    "logits = h @ w2 + b2 # output layer\n",
    "# cross entropy loss (same as F.cross_entropy(logits, Yb))\n",
    "logit_maxes = logits.max(1, keepdim=True).values\n",
    "norm_logits = logits - logit_maxes # subtract max for numerical stability\n",
    "counts = norm_logits.exp()\n",
    "counts_sum = counts.sum(1, keepdims=True)\n",
    "counts_sum_inv = counts_sum**-1 # if I use (1.0 / counts_sum) instead then I can't get backprop to be bit exact...\n",
    "probs = counts * counts_sum_inv\n",
    "logprobs = probs.log()\n",
    "loss = -logprobs[range(n), Yb].mean()\n",
    "\n",
    "# PyTorch backward pass\n",
    "for p in parameters:\n",
    "  p.grad = None\n",
    "for t in [logprobs, probs, counts, counts_sum, counts_sum_inv, # afaik there is no cleaner way\n",
    "          norm_logits, logit_maxes, logits, h, hpreact, bnraw,\n",
    "         bnvar_inv, bnvar, bndiff2, bndiff, hprebn, bnmeani,\n",
    "         embcat, emb]:\n",
    "  t.retain_grad()\n",
    "loss.backward()\n",
    "loss"
   ]
  },
  {
   "cell_type": "code",
   "execution_count": 25,
   "metadata": {},
   "outputs": [
    {
     "name": "stdout",
     "output_type": "stream",
     "text": [
      "logprobs        | exact: True  | approximate: True  | maxdiff: 0.0\n",
      "probs           | exact: True  | approximate: True  | maxdiff: 0.0\n",
      "counts_sum_inv  | exact: False | approximate: False | maxdiff: 0.0806659609079361\n"
     ]
    }
   ],
   "source": [
    "# Exercise 1: backprop through the whole thing manually, \n",
    "# backpropagating through exactly all of the variables \n",
    "# as they are defined in the forward pass above, one by one\n",
    "\n",
    "# dlogprobs = torch.zeros_like(logprobs)\n",
    "# dlogprobs[range(n), Yb] = -1.0/n\n",
    "# dprobs = (1.0 / probs) * dlogprobs\n",
    "# dcounts_sum_inv = (counts * dprobs).sum(1, keepdim=True)\n",
    "# dcounts = counts_sum_inv * dprobs\n",
    "# dcounts_sum = (-counts_sum**-2) * dcounts_sum_inv\n",
    "# dcounts += torch.ones_like(counts) * dcounts_sum\n",
    "# dnorm_logits = counts * dcounts\n",
    "# dlogits = dnorm_logits.clone()\n",
    "# dlogit_maxes = (-dnorm_logits).sum(1, keepdim=True)\n",
    "# dlogits += F.one_hot(logits.max(1).indices, num_classes=logits.shape[1]) * dlogit_maxes\n",
    "# dh = dlogits @ w2.T\n",
    "# dW2 = h.T @ dlogits\n",
    "# db2 = dlogits.sum(0)\n",
    "# dhpreact = (1.0 - h**2) * dh\n",
    "# dbngain = (bnraw * dhpreact).sum(0, keepdim=True)\n",
    "# dbnraw = bngain * dhpreact\n",
    "# dbnbias = dhpreact.sum(0, keepdim=True)\n",
    "# dbndiff = bnvar_inv * dbnraw\n",
    "# dbnvar_inv = (bndiff * dbnraw).sum(0, keepdim=True)\n",
    "# dbnvar = (-0.5*(bnvar + 1e-5)**-1.5) * dbnvar_inv\n",
    "# dbndiff2 = (1.0/(n-1))*torch.ones_like(bndiff2) * dbnvar\n",
    "# dbndiff += (2*bndiff) * dbndiff2\n",
    "# dhprebn = dbndiff.clone()\n",
    "# dbnmeani = (-dbndiff).sum(0)\n",
    "# dhprebn += 1.0/n * (torch.ones_like(hprebn) * dbnmeani)\n",
    "# dembcat = dhprebn @ w1.T\n",
    "# dW1 = embcat.T @ dhprebn\n",
    "# db1 = dhprebn.sum(0)\n",
    "# demb = dembcat.view(emb.shape)\n",
    "# dC = torch.zeros_like(C)\n",
    "# for k in range(Xb.shape[0]):\n",
    "#   for j in range(Xb.shape[1]):\n",
    "#     ix = Xb[k,j]\n",
    "#     dC[ix] += demb[k,j]\n",
    "\n",
    "\n",
    "\n",
    "#  lp = -(a + b + c) / 3     -> lp = -1/3a - 13/b -1/3c     -> dlpa/da = -1/3\n",
    "dlogprobs = torch.zeros_like(logprobs)\n",
    "dlogprobs[range(n), Yb] = -1/n\n",
    "\n",
    "# l = probs.log()   ->  dl/dprobs = 1/probs\n",
    "dprobs = torch.ones_like(probs) * (1.0/probs) * dlogprobs\n",
    "\n",
    "dcounts_sum_inv = counts * dprobs\n",
    "\n",
    "\n",
    "\n",
    "    \n",
    "cmp('logprobs', dlogprobs, logprobs)\n",
    "cmp('probs', dprobs, probs)\n",
    "cmp('counts_sum_inv', dcounts_sum_inv, counts_sum_inv)\n",
    "# cmp('counts_sum', dcounts_sum, counts_sum)\n",
    "# cmp('counts', dcounts, counts)\n",
    "# cmp('norm_logits', dnorm_logits, norm_logits)\n",
    "# cmp('logit_maxes', dlogit_maxes, logit_maxes)\n",
    "# cmp('logits', dlogits, logits)\n",
    "# cmp('h', dh, h)\n",
    "# cmp('W2', dW2, w2)\n",
    "# cmp('b2', db2, b2)\n",
    "# cmp('hpreact', dhpreact, hpreact)\n",
    "# cmp('bngain', dbngain, bngain)\n",
    "# cmp('bnbias', dbnbias, bnbias)\n",
    "# cmp('bnraw', dbnraw, bnraw)\n",
    "# cmp('bnvar_inv', dbnvar_inv, bnvar_inv)\n",
    "# cmp('bnvar', dbnvar, bnvar)\n",
    "# cmp('bndiff2', dbndiff2, bndiff2)\n",
    "# cmp('bndiff', dbndiff, bndiff)\n",
    "# cmp('bnmeani', dbnmeani, bnmeani)\n",
    "# cmp('hprebn', dhprebn, hprebn)\n",
    "# cmp('embcat', dembcat, embcat)\n",
    "# cmp('W1', dW1, w1)\n",
    "# cmp('b1', db1, b1)\n",
    "# cmp('emb', demb, emb)\n",
    "# cmp('C', dC, C)"
   ]
  },
  {
   "cell_type": "code",
   "execution_count": 31,
   "metadata": {},
   "outputs": [
    {
     "data": {
      "text/plain": [
       "torch.Size([256, 27])"
      ]
     },
     "execution_count": 31,
     "metadata": {},
     "output_type": "execute_result"
    }
   ],
   "source": [
    "(counts * counts_sum_inv).shape\n"
   ]
  },
  {
   "cell_type": "code",
   "execution_count": 33,
   "metadata": {},
   "outputs": [
    {
     "data": {
      "text/plain": [
       "torch.Size([256, 1])"
      ]
     },
     "execution_count": 33,
     "metadata": {},
     "output_type": "execute_result"
    }
   ],
   "source": [
    "counts_sum_inv.shape"
   ]
  }
 ],
 "metadata": {
  "kernelspec": {
   "display_name": "Python 3",
   "language": "python",
   "name": "python3"
  },
  "language_info": {
   "codemirror_mode": {
    "name": "ipython",
    "version": 3
   },
   "file_extension": ".py",
   "mimetype": "text/x-python",
   "name": "python",
   "nbconvert_exporter": "python",
   "pygments_lexer": "ipython3",
   "version": "3.10.12"
  }
 },
 "nbformat": 4,
 "nbformat_minor": 2
}
