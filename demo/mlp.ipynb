{
 "cells": [
  {
   "cell_type": "markdown",
   "metadata": {},
   "source": [
    "# MLP Approach "
   ]
  },
  {
   "cell_type": "markdown",
   "metadata": {},
   "source": [
    "![Example Image](../images/bengio-model.png)"
   ]
  },
  {
   "cell_type": "code",
   "execution_count": 187,
   "metadata": {},
   "outputs": [],
   "source": [
    "import torch\n",
    "import torch.nn.functional as F\n",
    "\n",
    "import random\n",
    "\n",
    "import matplotlib.pyplot as plt\n",
    "%matplotlib inline"
   ]
  },
  {
   "cell_type": "code",
   "execution_count": 42,
   "metadata": {},
   "outputs": [
    {
     "data": {
      "text/plain": [
       "6474"
      ]
     },
     "execution_count": 42,
     "metadata": {},
     "output_type": "execute_result"
    }
   ],
   "source": [
    "# Loading data\n",
    "words = open(\"../data/indian_names.txt\", 'r').read().splitlines()\n",
    "len(words)"
   ]
  },
  {
   "cell_type": "code",
   "execution_count": 43,
   "metadata": {},
   "outputs": [],
   "source": [
    "# Building Vocabulary and Conversions   str <--> int\n",
    "chrs = sorted(list(set(''.join(words))))\n",
    "\n",
    "stoi = {s : i+1 for i, s in enumerate(chrs)}\n",
    "itos = {i+1 : s for i, s in enumerate(chrs)}\n",
    "\n",
    "stoi['.'] = 0\n",
    "itos[0] = '.'\n",
    "\n",
    "special_characters = ['.']\n",
    "\n",
    "chrs = sorted(chrs + special_characters)"
   ]
  },
  {
   "cell_type": "code",
   "execution_count": 49,
   "metadata": {},
   "outputs": [
    {
     "data": {
      "text/plain": [
       "(torch.Size([33, 3]), torch.Size([33]))"
      ]
     },
     "execution_count": 49,
     "metadata": {},
     "output_type": "execute_result"
    }
   ],
   "source": [
    "# Building the dataset\n",
    "\n",
    "block_size = 3          # Context Length! How many characters to take to predict the next one\n",
    "X, Y = [], []\n",
    "\n",
    "for word in words[:5]:\n",
    "    #print(''.join(word))\n",
    "    context = [0] * block_size\n",
    "    for ch in word + '.':\n",
    "        ix = stoi[ch]\n",
    "        X.append(context)\n",
    "        Y.append(ix)\n",
    "        context = context[1:] + [ix]\n",
    "\n",
    "X = torch.tensor(X)\n",
    "Y = torch.tensor(Y)\n",
    "X.shape, Y.shape"
   ]
  },
  {
   "cell_type": "code",
   "execution_count": 50,
   "metadata": {},
   "outputs": [
    {
     "data": {
      "text/plain": [
       "torch.Size([33, 3, 2])"
      ]
     },
     "execution_count": 50,
     "metadata": {},
     "output_type": "execute_result"
    }
   ],
   "source": [
    "# Embedding table\n",
    "embid_size = 2\n",
    "C = torch.randn((len(chrs), embid_size))\n",
    "emb = C[X]\n",
    "emb.shape"
   ]
  },
  {
   "cell_type": "code",
   "execution_count": 52,
   "metadata": {},
   "outputs": [
    {
     "data": {
      "text/plain": [
       "torch.Size([33, 128])"
      ]
     },
     "execution_count": 52,
     "metadata": {},
     "output_type": "execute_result"
    }
   ],
   "source": [
    "# Hidden layer\n",
    "num_hidden = 128\n",
    "\n",
    "w1 = torch.randn((block_size*embid_size, num_hidden))\n",
    "b1 = torch.randn((128))\n",
    "\n",
    "# emb @ w1 + b1\n",
    "h = torch.tanh(emb.view((-1, emb.shape[1]*emb.shape[2])) @ w1 + b1)      # Keep the same dimensions\n",
    "h.shape\n"
   ]
  },
  {
   "cell_type": "code",
   "execution_count": 59,
   "metadata": {},
   "outputs": [
    {
     "data": {
      "text/plain": [
       "20.055004119873047"
      ]
     },
     "execution_count": 59,
     "metadata": {},
     "output_type": "execute_result"
    }
   ],
   "source": [
    "# Final layer\n",
    "w2 = torch.randn((num_hidden, len(chrs)))\n",
    "b2 = torch.randn(len(chrs))\n",
    "\n",
    "logits = h @ w2 + b2            # Shape [batch_size, vocab]\n",
    "\n",
    "'''\n",
    "Cross entropy is used for classification problems. It takes in logits and targets as inputs.\n",
    "Internally it calculates the softmax, to get probabilities and then takes the correct prob value we want,\n",
    "it logs it, and calculate the mean and negating it. So basically calculating negative log likelihood dirextly from logits and targets. Much efficient.\n",
    "'''\n",
    "\n",
    "loss = F.cross_entropy(logits, Y)\n",
    "loss.item()"
   ]
  },
  {
   "cell_type": "markdown",
   "metadata": {},
   "source": [
    "## Bringing it all together!!"
   ]
  },
  {
   "cell_type": "code",
   "execution_count": 274,
   "metadata": {},
   "outputs": [],
   "source": [
    "# Imports\n",
    "import torch\n",
    "import torch.nn.functional as F\n",
    "\n",
    "import random\n",
    "\n",
    "import matplotlib.pyplot as plt\n",
    "%matplotlib inline"
   ]
  },
  {
   "cell_type": "code",
   "execution_count": 286,
   "metadata": {},
   "outputs": [],
   "source": [
    "# Hyperparaeters\n",
    "block_size = 5          # Context Length! How many characters to take to predict the next one\n",
    "embid_size = 15          # How many dimension in the embedding space\n",
    "batch_size = 256\n",
    "num_hidden = 256        # Number of neurons in the hidden layer\n",
    "lr = 0.05\n",
    "epochs = 50000"
   ]
  },
  {
   "cell_type": "code",
   "execution_count": 287,
   "metadata": {},
   "outputs": [
    {
     "name": "stdout",
     "output_type": "stream",
     "text": [
      "6474 words.\n",
      "Shape of train data is     X -> torch.Size([38221, 5])      Y ->  torch.Size([38221])\n",
      "Shape of dev data is     X -> torch.Size([4691, 5])      Y ->  torch.Size([4691])\n",
      "Shape of test data is     X -> torch.Size([4705, 5])      Y ->  torch.Size([4705])\n"
     ]
    }
   ],
   "source": [
    "# Dataset\n",
    "\n",
    "train_split = 0.8\n",
    "dev_split = 0.1\n",
    "test_split = 0.1\n",
    "\n",
    "assert (train_split + dev_split + test_split) == 1.0, \"Data Split ration does not add up to 1.0\"\n",
    "\n",
    "# Loading data\n",
    "words = open(\"../data/indian_names.txt\", 'r').read().splitlines()\n",
    "print(len(words), \"words.\")\n",
    "\n",
    "# Building Vocabulary and Conversions   str <--> int\n",
    "chrs = sorted(list(set(''.join(words))))\n",
    "stoi = {s : i+1 for i, s in enumerate(chrs)}\n",
    "itos = {i+1 : s for i, s in enumerate(chrs)}\n",
    "\n",
    "stoi['.'] = 0\n",
    "itos[0] = '.'\n",
    "\n",
    "special_characters = ['.']\n",
    "chrs = sorted(chrs + special_characters)\n",
    "\n",
    "# Takes some words and builds X and Y data out of it\n",
    "def build_dataset(words, type = 'train'):\n",
    "    \n",
    "    X, Y = [], []\n",
    "\n",
    "    for word in words:\n",
    "        #print(''.join(word))\n",
    "        context = [0] * block_size\n",
    "        for ch in word + '.':\n",
    "            ix = stoi[ch]\n",
    "            X.append(context)\n",
    "            Y.append(ix)\n",
    "            context = context[1:] + [ix]\n",
    "\n",
    "    X = torch.tensor(X)\n",
    "    Y = torch.tensor(Y)\n",
    "    print(f\"Shape of {type} data is     X -> {X.shape}      Y ->  {Y.shape}\")\n",
    "\n",
    "    return X, Y\n",
    "\n",
    "# Shuffling the data\n",
    "random.seed(800)\n",
    "random.shuffle(words)\n",
    "\n",
    "n1 = int(0.8 * len(words))\n",
    "n2 = int(0.9 * len(words))\n",
    "\n",
    "# Calling build\n",
    "Xtrain, Ytrain = build_dataset(words[:n1], \"train\")\n",
    "Xdev, Ydev = build_dataset(words[n1:n2], \"dev\")\n",
    "Xtest, Ytest = build_dataset(words[n2:], \"test\")"
   ]
  },
  {
   "cell_type": "code",
   "execution_count": 288,
   "metadata": {},
   "outputs": [],
   "source": [
    "# Weights initializing\n",
    "g = torch.Generator().manual_seed(800)\n",
    "\n",
    "C = torch.randn((len(chrs), embid_size), generator=g)\n",
    "\n",
    "w1 = torch.randn((block_size*embid_size, num_hidden), generator=g)\n",
    "b1 = torch.randn((num_hidden), generator=g)\n",
    "\n",
    "w2 = torch.randn((num_hidden, len(chrs)), generator=g)\n",
    "b2 = torch.randn(len(chrs), generator=g)\n",
    "\n",
    "parameters = [C, w1, b1, w2, b2]"
   ]
  },
  {
   "cell_type": "code",
   "execution_count": 289,
   "metadata": {},
   "outputs": [
    {
     "name": "stdout",
     "output_type": "stream",
     "text": [
      "Total parameters to train --> 26800\n"
     ]
    }
   ],
   "source": [
    "# Checking parameters\n",
    "for p in parameters:\n",
    "    p.requires_grad = True\n",
    "print(\"Total parameters to train -->\", sum(p.nelement() for p in parameters))"
   ]
  },
  {
   "cell_type": "code",
   "execution_count": 290,
   "metadata": {},
   "outputs": [],
   "source": [
    "# Accumulation storage\n",
    "loss_track = []\n",
    "lr_track = []\n",
    "\n",
    "lre = torch.linspace(-3, 0, epochs)\n",
    "lrs = 10**lre"
   ]
  },
  {
   "cell_type": "code",
   "execution_count": 293,
   "metadata": {},
   "outputs": [
    {
     "name": "stdout",
     "output_type": "stream",
     "text": [
      "epoch=0 and loss.item()=1.9923968315124512\n",
      "epoch=1000 and loss.item()=1.9392573833465576\n",
      "epoch=2000 and loss.item()=2.0310239791870117\n",
      "epoch=3000 and loss.item()=1.9862635135650635\n",
      "epoch=4000 and loss.item()=2.002941131591797\n",
      "epoch=5000 and loss.item()=1.9475618600845337\n",
      "epoch=6000 and loss.item()=1.9938814640045166\n",
      "epoch=7000 and loss.item()=1.968012809753418\n",
      "epoch=8000 and loss.item()=1.752557635307312\n",
      "epoch=9000 and loss.item()=1.8278521299362183\n",
      "epoch=10000 and loss.item()=1.786801815032959\n",
      "epoch=11000 and loss.item()=1.8535842895507812\n",
      "epoch=12000 and loss.item()=2.0132927894592285\n",
      "epoch=13000 and loss.item()=1.8488523960113525\n",
      "epoch=14000 and loss.item()=1.988520860671997\n",
      "epoch=15000 and loss.item()=1.997864007949829\n",
      "epoch=16000 and loss.item()=1.9327415227890015\n",
      "epoch=17000 and loss.item()=2.0087122917175293\n",
      "epoch=18000 and loss.item()=1.927246332168579\n",
      "epoch=19000 and loss.item()=1.8898320198059082\n",
      "epoch=20000 and loss.item()=1.896616816520691\n",
      "epoch=21000 and loss.item()=1.8703659772872925\n",
      "epoch=22000 and loss.item()=2.2137627601623535\n",
      "epoch=23000 and loss.item()=1.8952863216400146\n",
      "epoch=24000 and loss.item()=1.7714024782180786\n",
      "epoch=25000 and loss.item()=2.1043946743011475\n",
      "epoch=26000 and loss.item()=1.875063419342041\n",
      "epoch=27000 and loss.item()=1.8927010297775269\n",
      "epoch=28000 and loss.item()=1.988226294517517\n",
      "epoch=29000 and loss.item()=1.9487996101379395\n",
      "epoch=30000 and loss.item()=1.8206071853637695\n",
      "epoch=31000 and loss.item()=2.006047248840332\n",
      "epoch=32000 and loss.item()=1.9186838865280151\n",
      "epoch=33000 and loss.item()=1.873276948928833\n",
      "epoch=34000 and loss.item()=1.9350451231002808\n",
      "epoch=35000 and loss.item()=1.7639464139938354\n",
      "epoch=36000 and loss.item()=1.9288883209228516\n",
      "epoch=37000 and loss.item()=1.9487682580947876\n",
      "epoch=38000 and loss.item()=1.9398939609527588\n",
      "epoch=39000 and loss.item()=1.792855978012085\n",
      "epoch=40000 and loss.item()=1.8701927661895752\n",
      "epoch=41000 and loss.item()=1.823390245437622\n",
      "epoch=42000 and loss.item()=1.8821349143981934\n",
      "epoch=43000 and loss.item()=1.9516048431396484\n",
      "epoch=44000 and loss.item()=1.8796753883361816\n",
      "epoch=45000 and loss.item()=1.9180113077163696\n",
      "epoch=46000 and loss.item()=1.88685941696167\n",
      "epoch=47000 and loss.item()=1.8328778743743896\n",
      "epoch=48000 and loss.item()=1.884405493736267\n",
      "epoch=49000 and loss.item()=1.8538944721221924\n"
     ]
    }
   ],
   "source": [
    "# Training Loop\n",
    "\n",
    "for epoch in range(epochs):\n",
    "\n",
    "    # Batch creation\n",
    "    ix = torch.randint(0, Xtrain.shape[0], (batch_size,))\n",
    "\n",
    "    # Forward Pass\n",
    "    emb = C[Xtrain[ix]]      # Shape [batch_dim, block_dim, emb_dim]\n",
    "    h = torch.tanh(emb.view((-1, emb.shape[1]*emb.shape[2])) @ w1 + b1)\n",
    "    logits = h @ w2 + b2            # Shape [batch_size, vocab]\n",
    "    loss = F.cross_entropy(logits, Ytrain[ix])\n",
    "\n",
    "    # Backward Pass\n",
    "    for p in parameters:\n",
    "        p.grad = None\n",
    "    loss.backward()\n",
    "\n",
    "    # Update\n",
    "    # lr = lrs[epoch]\n",
    "    lr = 0.01\n",
    "    for p in parameters:\n",
    "        p.data -= lr * p.grad\n",
    "\n",
    "    # Statistics\n",
    "    if epoch % 1000 == 0:\n",
    "        print(f'{epoch=} and {loss.item()=}')\n",
    "\n",
    "    # Accumulate\n",
    "    loss_track.append(loss.log10().item())\n",
    "    lr_track.append(lr)"
   ]
  },
  {
   "cell_type": "code",
   "execution_count": 294,
   "metadata": {},
   "outputs": [
    {
     "name": "stdout",
     "output_type": "stream",
     "text": [
      "Overall Loss on dev set is --> 2.2163844108581543\n"
     ]
    }
   ],
   "source": [
    "# Calculating loss for the entire dataset\n",
    "\n",
    "# Forward Pass\n",
    "emb = C[Xdev]      # Shape [batch_dim, block_dim, emb_dim]\n",
    "h = torch.tanh(emb.view((-1, emb.shape[1]*emb.shape[2])) @ w1 + b1)\n",
    "logits = h @ w2 + b2            # Shape [batch_size, vocab]\n",
    "loss = F.cross_entropy(logits, Ydev)\n",
    "\n",
    "print(\"Overall Loss on dev set is -->\", loss.item())"
   ]
  },
  {
   "cell_type": "code",
   "execution_count": 243,
   "metadata": {},
   "outputs": [
    {
     "data": {
      "text/plain": [
       "[<matplotlib.lines.Line2D at 0x74bf74ccd390>]"
      ]
     },
     "execution_count": 243,
     "metadata": {},
     "output_type": "execute_result"
    },
    {
     "data": {
      "image/png": "[encoded data removed]",
      "text/plain": [
       "<Figure size 640x480 with 1 Axes>"
      ]
     },
     "metadata": {},
     "output_type": "display_data"
    }
   ],
   "source": [
    "# Plotting the lr vs loss\n",
    "plt.plot(lre, loss_track)"
   ]
  },
  {
   "cell_type": "code",
   "execution_count": 295,
   "metadata": {},
   "outputs": [
    {
     "data": {
      "text/plain": [
       "[<matplotlib.lines.Line2D at 0x74bf6fd43430>]"
      ]
     },
     "execution_count": 295,
     "metadata": {},
     "output_type": "execute_result"
    },
    {
     "data": {
      "image/png": "[encoded data removed]",
      "text/plain": [
       "<Figure size 640x480 with 1 Axes>"
      ]
     },
     "metadata": {},
     "output_type": "display_data"
    }
   ],
   "source": [
    "# Plotting the loss vs epochs\n",
    "plt.plot(range(len(loss_track)), loss_track)"
   ]
  },
  {
   "cell_type": "code",
   "execution_count": 231,
   "metadata": {},
   "outputs": [
    {
     "data": {
      "image/png": "[encoded data removed]",
      "text/plain": [
       "<Figure size 1000x1000 with 1 Axes>"
      ]
     },
     "metadata": {},
     "output_type": "display_data"
    }
   ],
   "source": [
    "# Visualizing the EMbedding space\n",
    "plt.figure(figsize = (10, 10))\n",
    "plt.scatter(C[:, 0].data, C[:, 1].data, s = 300)\n",
    "for i in range(C.shape[0]):\n",
    "    st = itos[i]\n",
    "    plt.text(C[i, 0], C[i, 1], st, ha=\"center\", va=\"center\", color=\"white\")\n",
    "plt.grid('both')"
   ]
  },
  {
   "cell_type": "code",
   "execution_count": 307,
   "metadata": {},
   "outputs": [
    {
     "data": {
      "text/plain": [
       "['preela',\n",
       " 'dhvad',\n",
       " 'rudekhar',\n",
       " 'diravi',\n",
       " 'rakisha',\n",
       " 'seha',\n",
       " 'sana',\n",
       " 'gunundansha',\n",
       " 'abhiar',\n",
       " 'arnooc',\n",
       " 'beerajpal',\n",
       " 'saran',\n",
       " 'ahayj',\n",
       " 'deepankaj',\n",
       " 'premti',\n",
       " 'tuusma',\n",
       " 'antrasthas',\n",
       " 'somsina',\n",
       " 'rumjan',\n",
       " 'mushim']"
      ]
     },
     "execution_count": 307,
     "metadata": {},
     "output_type": "execute_result"
    }
   ],
   "source": [
    "# Sample from the model\n",
    "g = torch.Generator().manual_seed(900)\n",
    "\n",
    "num_names = 20\n",
    "names = []\n",
    "\n",
    "for i in range(num_names):\n",
    "\n",
    "    name = \"\"\n",
    "    context = [0] * block_size\n",
    "\n",
    "    while True:\n",
    "        # forward pass\n",
    "        emb = C[torch.tensor([context])]        # [1, block_size, emb_size]\n",
    "        h = torch.tanh(emb.view((-1, emb.shape[1]*emb.shape[2])) @ w1 + b1)\n",
    "        logits = h @ w2 + b2            # Shape [batch_size, vocab]\n",
    "        probs = F.softmax(logits, dim = 1)\n",
    "        # sample from this dist\n",
    "        ix = torch.multinomial(probs, num_samples = 1, replacement = True).item()\n",
    "        context = context[1:] + [ix]\n",
    "        # break and save because end of word\n",
    "        if itos[ix] == '.':\n",
    "            names.append(name)\n",
    "            break\n",
    "        # store characters\n",
    "        name = name + itos[ix]\n",
    "\n",
    "names"
   ]
  }
 ],
 "metadata": {
  "kernelspec": {
   "display_name": "Python 3",
   "language": "python",
   "name": "python3"
  },
  "language_info": {
   "codemirror_mode": {
    "name": "ipython",
    "version": 3
   },
   "file_extension": ".py",
   "mimetype": "text/x-python",
   "name": "python",
   "nbconvert_exporter": "python",
   "pygments_lexer": "ipython3",
   "version": "3.10.12"
  }
 },
 "nbformat": 4,
 "nbformat_minor": 2
}
